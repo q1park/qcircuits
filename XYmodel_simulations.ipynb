{
 "cells": [
  {
   "cell_type": "markdown",
   "metadata": {},
   "source": [
    "## Imports"
   ]
  },
  {
   "cell_type": "code",
   "execution_count": 1,
   "metadata": {},
   "outputs": [],
   "source": [
    "%matplotlib inline\n",
    "\n",
    "# Import functions\n",
    "import timeit\n",
    "import numpy as np\n",
    "import scipy as sp\n",
    "import matplotlib as mpl\n",
    "import matplotlib.pyplot as plt\n",
    "\n",
    "from scipy.sparse import csc_matrix\n",
    "from scipy.interpolate import make_interp_spline\n",
    "\n",
    "# Functions to play animations\n",
    "from IPython.core.interactiveshell import InteractiveShell\n",
    "InteractiveShell.ast_node_interactivity = \"all\"\n",
    "from JSAnimation.IPython_display import display_animation\n",
    "from matplotlib import animation\n",
    "from IPython.display import display\n",
    "\n",
    "# Circuit functions and gate definitions\n",
    "import qctools\n",
    "from gateset import *\n",
    "from functions import *"
   ]
  },
  {
   "cell_type": "markdown",
   "metadata": {},
   "source": [
    "# XY Hamiltonian Simulation"
   ]
  },
  {
   "cell_type": "markdown",
   "metadata": {},
   "source": [
    "$$\n",
    "w_p(\\lambda, \\gamma) = \\sqrt{ (1 - \\lambda \\cos 2 \\pi p )^2 + (\\lambda~\\gamma \\sin 2 \\pi p)^2 } \n",
    "\\qquad\\qquad\n",
    "\\theta_p(\\lambda, \\gamma) = \\pi - \\cos^{-1}\\left( \\frac{-1 + \\lambda \\cos 2 \\pi p }{w_p(\\lambda, \\gamma)} \\right)\n",
    "$$"
   ]
  },
  {
   "cell_type": "code",
   "execution_count": 2,
   "metadata": {},
   "outputs": [],
   "source": [
    "gamm = 1.\n",
    "betas = [0., 0.125, 0.25, 0.5, 1., 2., 4., 8., 16., 32]"
   ]
  },
  {
   "cell_type": "markdown",
   "metadata": {},
   "source": [
    "## 2 qubits"
   ]
  },
  {
   "cell_type": "markdown",
   "metadata": {},
   "source": [
    "### Define parameters"
   ]
  },
  {
   "cell_type": "code",
   "execution_count": 3,
   "metadata": {},
   "outputs": [],
   "source": [
    "lamb = 1.\n",
    "N2 = 2.\n",
    "k2 = [0,1]\n",
    "\n",
    "p2 = [(x/N2) for x in k2]\n",
    "w2 = [(1/lamb)*w(lamb, gamm, p2[jj]) for jj in range(len(p2))]\n",
    "rw2 = list(reversed(w2) )\n",
    "\n",
    "H_X2 = ((1/2)*lamb*(HXY_iso(c2, +1) + gamm*HXY_aniso(c2, +1)) + \\\n",
    "        (HXY_mag(c2) - (N2/2)*prod(I, I))) * (1./lamb)"
   ]
  },
  {
   "cell_type": "markdown",
   "metadata": {},
   "source": [
    "### Define Hamiltonians"
   ]
  },
  {
   "cell_type": "code",
   "execution_count": 4,
   "metadata": {},
   "outputs": [
    {
     "data": {
      "text/html": [
       "<div>\n",
       "<style scoped>\n",
       "    .dataframe tbody tr th:only-of-type {\n",
       "        vertical-align: middle;\n",
       "    }\n",
       "\n",
       "    .dataframe tbody tr th {\n",
       "        vertical-align: top;\n",
       "    }\n",
       "\n",
       "    .dataframe thead th {\n",
       "        text-align: right;\n",
       "    }\n",
       "</style>\n",
       "<table border=\"1\" class=\"dataframe\">\n",
       "  <thead>\n",
       "    <tr style=\"text-align: right;\">\n",
       "      <th></th>\n",
       "      <th>0</th>\n",
       "      <th>1</th>\n",
       "      <th>2</th>\n",
       "      <th>3</th>\n",
       "    </tr>\n",
       "  </thead>\n",
       "  <tbody>\n",
       "    <tr>\n",
       "      <th>0</th>\n",
       "      <td>-1.0</td>\n",
       "      <td>0.0</td>\n",
       "      <td>0.0</td>\n",
       "      <td>0.0</td>\n",
       "    </tr>\n",
       "    <tr>\n",
       "      <th>1</th>\n",
       "      <td>0.0</td>\n",
       "      <td>-1.0</td>\n",
       "      <td>0.0</td>\n",
       "      <td>0.0</td>\n",
       "    </tr>\n",
       "    <tr>\n",
       "      <th>2</th>\n",
       "      <td>0.0</td>\n",
       "      <td>0.0</td>\n",
       "      <td>1.0</td>\n",
       "      <td>0.0</td>\n",
       "    </tr>\n",
       "    <tr>\n",
       "      <th>3</th>\n",
       "      <td>0.0</td>\n",
       "      <td>0.0</td>\n",
       "      <td>0.0</td>\n",
       "      <td>1.0</td>\n",
       "    </tr>\n",
       "  </tbody>\n",
       "</table>\n",
       "</div>"
      ],
      "text/plain": [
       "     0    1    2    3\n",
       "0 -1.0  0.0  0.0  0.0\n",
       "1  0.0 -1.0  0.0  0.0\n",
       "2  0.0  0.0  1.0  0.0\n",
       "3  0.0  0.0  0.0  1.0"
      ]
     },
     "execution_count": 4,
     "metadata": {},
     "output_type": "execute_result"
    },
    {
     "data": {
      "text/plain": [
       "0"
      ]
     },
     "execution_count": 4,
     "metadata": {},
     "output_type": "execute_result"
    }
   ],
   "source": [
    "U_FT2 = qdot(prod(fSWAP),\n",
    "             prod(Fou2(1/2)) )\n",
    "\n",
    "U_Bog2 = csc_matrix((int(2**N2), int(2**N2) ), dtype=complex)\n",
    "\n",
    "if lamb>1.0:\n",
    "    U_Bog2 = qdot(prod(Bog2(theta(lamb, gamm, 0/2-1/2))),\n",
    "                  prod(fSWAP),\n",
    "                  prod(I, X))\n",
    "    \n",
    "if lamb<=1.0:\n",
    "    U_Bog2 = qdot(prod(Bog2(theta(lamb, gamm, 0/2-1/2))), \n",
    "                  prod(fSWAP))\n",
    "\n",
    "U_Dis2 = qdot(U_FT2, U_Bog2)\n",
    "\n",
    "HD_P2 = qdot(U_FT2.getH(), H_X2, U_FT2)\n",
    "HD_X2 = qdot(U_Bog2.getH(), U_FT2.getH(), H_X2, U_FT2, U_Bog2)\n",
    "HD_E2 = HXY_diag(c2, w2) #* (1./lamb)\n",
    "\n",
    "qf = qctools.CircuitTools(HD_X2)\n",
    "qf.prettymatrix()\n",
    "np.count_nonzero( np.around(HD_X2.diagonal() - HD_E2.diagonal(), 3) )"
   ]
  },
  {
   "cell_type": "markdown",
   "metadata": {},
   "source": [
    "### Define position/momentum/energy eigenstates"
   ]
  },
  {
   "cell_type": "code",
   "execution_count": 5,
   "metadata": {},
   "outputs": [],
   "source": [
    "psi_X2 = spin_states(c2)\n",
    "cp2 = fourier_transform(c2, p2)\n",
    "psi_P2 = np.dot(psi_X2, spin_states(cp2))\n",
    "\n",
    "#print(onequbit_modes(psi_P2) )\n",
    "#print(onequbit_modes(U_FT2) )"
   ]
  },
  {
   "cell_type": "code",
   "execution_count": 6,
   "metadata": {},
   "outputs": [],
   "source": [
    "val_E2 = HD_E2.diagonal()\n",
    "psi_E2 = np.abs(psi_X2 )\n",
    "ival_E2_ordered = np.argsort(val_E2 )\n",
    "\n",
    "psiX1_E2 = reduce(np.dot, [U_Dis2.getH(), c2[0].getH(), psi_X2[:, 0]] )\n",
    "psiX2_E2 = reduce(np.dot, [U_Dis2.getH(), c2[1].getH(), psi_X2[:, 0]] )\n",
    "\n",
    "UD_E2 = [qexp(HD_E2, 0.25*x) for x in range(20)]\n",
    "for x in UD_E2:\n",
    "    x.eliminate_zeros()"
   ]
  },
  {
   "cell_type": "markdown",
   "metadata": {},
   "source": [
    "### Define thermal states"
   ]
  },
  {
   "cell_type": "code",
   "execution_count": 7,
   "metadata": {},
   "outputs": [
    {
     "data": {
      "text/plain": [
       "0"
      ]
     },
     "execution_count": 7,
     "metadata": {},
     "output_type": "execute_result"
    }
   ],
   "source": [
    "psi_LP2 = build_LP(1., rw2)\n",
    "psiC_LP2 = calc_LP(1., val_E2, psi_E2)\n",
    "\n",
    "np.count_nonzero(np.around((psi_LP2[:,0] - psiC_LP2).todense(), 3) )"
   ]
  },
  {
   "cell_type": "code",
   "execution_count": 10,
   "metadata": {},
   "outputs": [
    {
     "name": "stderr",
     "output_type": "stream",
     "text": [
      "/home/q1park/qcircuits/functions.py:227: ComplexWarning: Casting complex values to real discards the imaginary part\n",
      "  scanout[itp, ix] = expval.astype(float)\n",
      "/home/q1park/qcircuits/functions.py:320: ComplexWarning: Casting complex values to real discards the imaginary part\n",
      "  scanout[ib, ix] = entval.astype(float)\n",
      "/home/q1park/anaconda3/lib/python3.6/site-packages/scipy/linalg/_matfuncs_inv_ssq.py:838: LogmNearlySingularWarning: The logm input matrix may be nearly singular.\n",
      "  warnings.warn(near_singularity_msg, LogmNearlySingularWarning)\n"
     ]
    },
    {
     "data": {
      "image/png": "[encoded data removed]",
      "text/plain": [
       "<Figure size 576x288 with 2 Axes>"
      ]
     },
     "metadata": {},
     "output_type": "display_data"
    }
   ],
   "source": [
    "cols = [r'$\\langle Z_i \\rangle$ for $|x_1 \\rangle$', \n",
    "        r'$S(\\ell)$ for $\\rho_{\\rm mixed}$']\n",
    "\n",
    "fig, axes = plt.subplots(nrows=1, ncols=2, sharex=True, sharey=False, figsize=(8, 4))\n",
    "\n",
    "pad = 5 # in points\n",
    "\n",
    "l8 = np.linspace(1,7, 7)\n",
    "Struth = np.array([S_crit(0.5, 8, x, 0.5447) for x in l8])\n",
    "\n",
    "for ax, col in zip(axes, cols):\n",
    "    ax.annotate(col, xy=(0.5, 1.025), xytext=(0, pad),\n",
    "                xycoords='axes fraction', textcoords='offset points',\n",
    "                size='x-large', ha='center', va='baseline');\n",
    "\n",
    "for j, cell in enumerate(axes):\n",
    "    if j==0:\n",
    "        cell.imshow(scansig_time(UD_E2, psiX1_E2, U_Dis2, [Z] ).astype(float), \n",
    "                    cmap='hot', interpolation='nearest', vmin = -1.5, vmax = 1.5, aspect = 0.3/2)\n",
    " \n",
    "    if j==1:\n",
    "        cell.imshow(scanent_temp(betas, rw2, U_Dis2, 'mixed' ).astype(float), \n",
    "           cmap='hot', interpolation='nearest', vmin = -3, vmax = 2, aspect = 0.3)\n",
    "plt.show();"
   ]
  },
  {
   "cell_type": "markdown",
   "metadata": {},
   "source": [
    "## 4 qubits"
   ]
  },
  {
   "cell_type": "markdown",
   "metadata": {},
   "source": [
    "### Define parameters"
   ]
  },
  {
   "cell_type": "code",
   "execution_count": 8,
   "metadata": {},
   "outputs": [],
   "source": [
    "N4 = 4.\n",
    "\n",
    "k4, k4S = [0,2,-1,1], [2,-1,0,1]\n",
    "p4, p4S = [(x/N4) for x in k4], [(x/N4) for x in k4S]\n",
    "w4 = [(1/lamb)*w(lamb, gamm, p4[jj]) for jj in range(len(p4))]\n",
    "rw4 = list(reversed(w4) )\n",
    "w4S = [w(lamb, gamm, p4S[jj]) for jj in range(len(p4S))]\n",
    "\n",
    "H_X4 = ((1/2)*lamb*(HXY_iso(c4, +1) + gamm*HXY_aniso(c4, +1)) + \\\n",
    "        (HXY_mag(c4) - (N4/2)*prod(I, I, I, I))) * (1./lamb)"
   ]
  },
  {
   "cell_type": "markdown",
   "metadata": {},
   "source": [
    "### Define Hamiltonians"
   ]
  },
  {
   "cell_type": "code",
   "execution_count": 9,
   "metadata": {},
   "outputs": [
    {
     "data": {
      "text/plain": [
       "16"
      ]
     },
     "execution_count": 9,
     "metadata": {},
     "output_type": "execute_result"
    },
    {
     "data": {
      "text/plain": [
       "0"
      ]
     },
     "execution_count": 9,
     "metadata": {},
     "output_type": "execute_result"
    }
   ],
   "source": [
    "U_RG4 = qdot(prod(I, I, fSWAP),\n",
    "             prod(I, fSWAP, I))\n",
    "\n",
    "U_FT4 = qdot(prod(I, fSWAP, I),\n",
    "             prod(Fou2(1/4), I, I),\n",
    "             prod(I, I, Fou2(0)),\n",
    "             prod(I, fSWAP, I),\n",
    "             prod(Fou2(0), I, I),\n",
    "             prod(I, I, Fou2(0)) )\n",
    "\n",
    "U_Bog4 = csc_matrix((int(2**N4), int(2**N4) ), dtype=complex)\n",
    "\n",
    "if lamb>1.0:\n",
    "    U_Bog4 = qdot(prod(Bog2(theta(lamb, gamm, 1/4-1/2)), \n",
    "                       Bog2(theta(lamb, gamm, 0/4-1/2))),\n",
    "                  prod(fSWAP, fSWAP),\n",
    "                  prod(I, I, I, X))\n",
    "    \n",
    "if lamb<=1.0:\n",
    "    U_Bog4 = qdot(prod(Bog2(theta(lamb, gamm, 1/4-1/2)), \n",
    "                       Bog2(theta(lamb, gamm, 0/4-1/2))),\n",
    "                  prod(fSWAP, fSWAP))\n",
    "\n",
    "U_Dis4 = qdot(U_FT4, U_Bog4)\n",
    "\n",
    "HD_E4 = HXY_diag(c4, w4) #* (1./lamb)\n",
    "HD_P4 = qdot(U_FT4.getH(), H_X4, U_FT4)\n",
    "HD_X4 = qdot(U_Bog4.getH(), U_FT4.getH(), H_X4, U_FT4, U_Bog4)\n",
    "\n",
    "qf = qctools.CircuitTools(HD_X4)\n",
    "#qf.prettymatrix()\n",
    "qf.check_nnz()\n",
    "\n",
    "np.count_nonzero( np.around(HD_X4.diagonal() - HD_E4.diagonal(), 3) )"
   ]
  },
  {
   "cell_type": "markdown",
   "metadata": {},
   "source": [
    "### Define position/momentum/energy states"
   ]
  },
  {
   "cell_type": "code",
   "execution_count": 10,
   "metadata": {},
   "outputs": [],
   "source": [
    "psi_X4 = spin_states(c4)\n",
    "cp4 = fourier_transform(c4, p4)\n",
    "psi_P4 = np.dot(psi_X4, spin_states(cp4))\n",
    "\n",
    "#print(onequbit_modes(psi_P4) )\n",
    "#print(onequbit_modes(U_FT4 ) )"
   ]
  },
  {
   "cell_type": "code",
   "execution_count": 11,
   "metadata": {},
   "outputs": [
    {
     "name": "stderr",
     "output_type": "stream",
     "text": [
      "/home/q1park/anaconda3/lib/python3.6/site-packages/scipy/sparse/compressed.py:746: SparseEfficiencyWarning: Changing the sparsity structure of a csc_matrix is expensive. lil_matrix is more efficient.\n",
      "  SparseEfficiencyWarning)\n"
     ]
    }
   ],
   "source": [
    "val_E4 = HD_E4.diagonal()\n",
    "psi_E4 = np.abs(psi_X4 )\n",
    "ival_E4_ordered = np.argsort(val_E4 )\n",
    "\n",
    "psiX1_E4 = reduce(np.dot, [U_Dis4.getH(), c4[0].getH(), psi_X4[:, 0]] )\n",
    "psiX2_E4 = reduce(np.dot, [U_Dis4.getH(), c4[1].getH(), psi_X4[:, 0]] )\n",
    "psiX3_E4 = reduce(np.dot, [U_Dis4.getH(), c4[2].getH(), psi_X4[:, 0]] )\n",
    "psiX4_E4 = reduce(np.dot, [U_Dis4.getH(), c4[3].getH(), psi_X4[:, 0]] )\n",
    "\n",
    "psiX_E4 = [psiX1_E4, psiX2_E4, psiX3_E4, psiX4_E4]\n",
    "\n",
    "UD_E4 = [qexp(HD_E4, 0.25*x) for x in range(20)]\n",
    "for x in UD_E4:\n",
    "    x.eliminate_zeros()\n",
    "\n",
    "rhoE0_E4 = np.dot(psi_E4[:, 0],psi_E4[:, 0].getH())\n",
    "rhoE0_X4 = reduce(np.dot, [U_Dis4, UD_E4[0], rhoE0_E4, UD_E4[0].getH(), U_Dis4.getH()] )"
   ]
  },
  {
   "cell_type": "markdown",
   "metadata": {},
   "source": [
    "### Define thermal states"
   ]
  },
  {
   "cell_type": "code",
   "execution_count": 12,
   "metadata": {},
   "outputs": [
    {
     "data": {
      "text/plain": [
       "0"
      ]
     },
     "execution_count": 12,
     "metadata": {},
     "output_type": "execute_result"
    }
   ],
   "source": [
    "psi_LP4 = build_LP(1., rw4)\n",
    "psiC_LP4 = calc_LP(1, val_E4, psi_E4)\n",
    "\n",
    "np.count_nonzero(np.around((psi_LP4[:,0] - psiC_LP4).todense(), 3) )"
   ]
  },
  {
   "cell_type": "code",
   "execution_count": 13,
   "metadata": {},
   "outputs": [
    {
     "data": {
      "text/plain": [
       "0"
      ]
     },
     "execution_count": 13,
     "metadata": {},
     "output_type": "execute_result"
    }
   ],
   "source": [
    "psi_TFD4 = build_TFD(1., rw2)\n",
    "psiC_TFD4 = calc_TFD(1., val_E2, psi_E2)\n",
    "\n",
    "np.count_nonzero(np.around((psi_TFD4[:,0] - psiC_TFD4).todense(), 3) )\n",
    "\n",
    "rhoTFD_E4 = np.dot(psi_TFD4, psi_TFD4.getH())"
   ]
  },
  {
   "cell_type": "markdown",
   "metadata": {},
   "source": [
    "### Plots"
   ]
  },
  {
   "cell_type": "code",
   "execution_count": 33,
   "metadata": {},
   "outputs": [],
   "source": [
    "rhoX1_E2_RG = reduce(np.dot, [U_Bog2.getH(),\n",
    "                              pTraceM(reduce(np.dot, [U_RG4,\n",
    "                                                      U_Bog4, \n",
    "                                                      np.dot(psiX1_E4, psiX1_E4.getH()),\n",
    "                                                      U_Bog4.getH(),\n",
    "                                                      U_RG4.getH() ] ), [3,4] ),\n",
    "                              U_Bog2] )\n",
    "rhoX2_E2_RG = reduce(np.dot, [U_Bog2.getH(),\n",
    "                              pTraceM(reduce(np.dot, [U_RG4,\n",
    "                                                      U_Bog4, \n",
    "                                                      np.dot(psiX2_E4, psiX2_E4.getH()),\n",
    "                                                      U_Bog4.getH(),\n",
    "                                                      U_RG4.getH() ] ), [3,4] ),\n",
    "                              U_Bog2] )\n",
    "\n",
    "rhoX3_E2_RG = reduce(np.dot, [U_Bog2.getH(),\n",
    "                              pTraceM(reduce(np.dot, [U_RG4,\n",
    "                                                      U_Bog4, \n",
    "                                                      np.dot(psiX3_E4, psiX3_E4.getH()),\n",
    "                                                      U_Bog4.getH(),\n",
    "                                                      U_RG4.getH() ] ), [3,4] ),\n",
    "                              U_Bog2] )\n",
    "\n",
    "rhoX4_E2_RG = reduce(np.dot, [U_Bog2.getH(),\n",
    "                              pTraceM(reduce(np.dot, [U_RG4,\n",
    "                                                      U_Bog4, \n",
    "                                                      np.dot(psiX4_E4, psiX4_E4.getH()),\n",
    "                                                      U_Bog4.getH(),\n",
    "                                                      U_RG4.getH() ] ), [3,4] ),\n",
    "                              U_Bog2] )\n",
    "\n",
    "rhoX_E2_RG = [rhoX1_E2_RG, rhoX2_E2_RG, rhoX3_E2_RG, rhoX4_E2_RG]"
   ]
  },
  {
   "cell_type": "code",
   "execution_count": 16,
   "metadata": {},
   "outputs": [
    {
     "name": "stderr",
     "output_type": "stream",
     "text": [
      "/home/q1park/qcircuits/functions.py:227: ComplexWarning: Casting complex values to real discards the imaginary part\n",
      "  scanout[itp, ix] = expval.astype(float)\n"
     ]
    },
    {
     "data": {
      "image/png": "[encoded data removed]",
      "text/plain": [
       "<Figure size 720x360 with 9 Axes>"
      ]
     },
     "metadata": {},
     "output_type": "display_data"
    }
   ],
   "source": [
    "cols = ['m = {}'.format(col) for col in range(4)]\n",
    "rows = ['n = {}'.format(row) for row in ['4  ', '2  ']]\n",
    "\n",
    "fig, axes = plt.subplots(nrows=2, ncols=4, sharex=True, sharey=True, figsize=(10, 5))\n",
    "\n",
    "plt.setp(axes.flat, xlabel=r'$\\langle Z \\rangle$', ylabel='t')\n",
    "\n",
    "pad = 5 # in points\n",
    "\n",
    "for ax, col in zip(axes[0], cols):\n",
    "    ax.annotate(col, xy=(0.5, 1), xytext=(0, pad),\n",
    "                xycoords='axes fraction', textcoords='offset points',\n",
    "                size='large', ha='center', va='baseline');\n",
    "\n",
    "for ax, row in zip(axes[:,0], rows):\n",
    "    ax.annotate(row, xy=(0, 0.5), xytext=(-ax.yaxis.labelpad - pad, 0),\n",
    "                xycoords=ax.yaxis.label, textcoords='offset points',\n",
    "                size='large', ha='right', va='center');\n",
    "\n",
    "for i, row in enumerate(axes):\n",
    "    for j, cell in enumerate(row):\n",
    "        if i==0:\n",
    "            cell.imshow(scansig_time(UD_E4, psiX_E4[j], U_Dis4, [Z] ), \n",
    "                        cmap='hot', interpolation='nearest', vmin = -1.5, vmax = 1.5 )\n",
    "        if i==1:\n",
    "            cell.imshow(-1+2*scansig_time(UD_E2, rhoX_E2_RG[j], U_Dis2, [Z], wider=True ), \n",
    "                        cmap='hot', interpolation='nearest', vmin = -1.5, vmax = 1.5 )\n",
    "            legender = cell.imshow(-1+2*scansig_time(UD_E2, rhoX_E2_RG[j], U_Dis2, [Z], wider=True ),\n",
    "                                   cmap='hot', interpolation='nearest', vmin = -1.5, vmax = 1.5 )\n",
    "            \n",
    "fig.tight_layout();\n",
    "fig.subplots_adjust(left=0.15, top=0.95);\n",
    "#fig.colorbar(legender, ax=axes.ravel().tolist())\n",
    "\n",
    "cbar_ax = fig.add_axes([1., 0.15, 0.025, 0.7])\n",
    "fig.colorbar(legender, cax=cbar_ax)\n",
    "\n",
    "plt.show();"
   ]
  },
  {
   "cell_type": "code",
   "execution_count": 17,
   "metadata": {},
   "outputs": [
    {
     "name": "stderr",
     "output_type": "stream",
     "text": [
      "/home/q1park/qcircuits/functions.py:283: ComplexWarning: Casting complex values to real discards the imaginary part\n",
      "  scanout[ib, ix] = expval.astype(float)\n",
      "/home/q1park/qcircuits/functions.py:320: ComplexWarning: Casting complex values to real discards the imaginary part\n",
      "  scanout[ib, ix] = entval.astype(float)\n",
      "/home/q1park/anaconda3/lib/python3.6/site-packages/scipy/linalg/_matfuncs_inv_ssq.py:829: LogmExactlySingularWarning: The logm input matrix is exactly singular.\n",
      "  warnings.warn(exact_singularity_msg, LogmExactlySingularWarning)\n",
      "/home/q1park/anaconda3/lib/python3.6/site-packages/scipy/linalg/_matfuncs_inv_ssq.py:838: LogmNearlySingularWarning: The logm input matrix may be nearly singular.\n",
      "  warnings.warn(near_singularity_msg, LogmNearlySingularWarning)\n"
     ]
    },
    {
     "data": {
      "image/png": "[encoded data removed]",
      "text/plain": [
       "<Figure size 576x288 with 3 Axes>"
      ]
     },
     "metadata": {},
     "output_type": "display_data"
    }
   ],
   "source": [
    "cols = [r'$\\langle Z_i \\rangle$ for $\\rho_{\\rm mixed}$', \n",
    "        r'$S(\\ell)$ for $\\rho_{\\rm mixed}$', \n",
    "        r'$S(\\ell)$ for $\\rho_{\\rm TFD}$']\n",
    "\n",
    "fig, axes = plt.subplots(nrows=1, ncols=3, sharex=True, sharey=False, figsize=(8, 4))\n",
    "\n",
    "pad = 5 # in points\n",
    "\n",
    "l8 = np.linspace(1,7, 7)\n",
    "Struth = np.array([S_crit(0.5, 8, x, 0.5447) for x in l8])\n",
    "\n",
    "for ax, col in zip(axes, cols):\n",
    "    ax.annotate(col, xy=(0.5, 1.025), xytext=(0, pad),\n",
    "                xycoords='axes fraction', textcoords='offset points',\n",
    "                size='x-large', ha='center', va='baseline');\n",
    "\n",
    "for j, cell in enumerate(axes):\n",
    "    if j==0:\n",
    "        cell.imshow(scansig_temp(betas, rw4, U_Dis4, [Z], 'mixed' ).astype(float), \n",
    "                    cmap='hot', interpolation='nearest', vmin = -1.5, vmax = 1.5, aspect = 0.3*2)\n",
    " \n",
    "    if j==1:\n",
    "        cell.imshow(scanent_temp(betas, rw4, U_Dis4, 'mixed' ).astype(float), \n",
    "                    cmap='hot', interpolation='nearest', vmin = -10, vmax = 10, aspect = 0.3*2)\n",
    "    \n",
    "    if j==2:\n",
    "        cell.imshow(scanent_temp(betas, rw2, prod(U_Dis2, U_Dis2), 'double' ).astype(float), \n",
    "                    cmap='hot', interpolation='nearest', vmin = -0.5, vmax = 2.5, aspect = 0.3*2)\n",
    "plt.show();"
   ]
  },
  {
   "cell_type": "markdown",
   "metadata": {},
   "source": [
    "### n=8 Circuit"
   ]
  },
  {
   "cell_type": "markdown",
   "metadata": {},
   "source": [
    "### Define parameters"
   ]
  },
  {
   "cell_type": "code",
   "execution_count": 14,
   "metadata": {},
   "outputs": [],
   "source": [
    "lamb = 1.\n",
    "N8 = 8\n",
    "\n",
    "#k8 = [0,4,-2,2,-1,1,-3,3]\n",
    "k8 = [0,4,-2,2,-3,3,-1,1]\n",
    "p8 = [(x/N8) for x in k8]\n",
    "w8 = [(1/lamb)*w(lamb, gamm, p8[jj]) for jj in range(len(p8))]\n",
    "rw8 = list(reversed(w8) )\n",
    "\n",
    "H_X8 = ((1/2)*lamb*(HXY_iso(c8, +1) + gamm*HXY_aniso(c8, +1)) + \\\n",
    "       (HXY_mag(c8) - (N8/2)*prod(I, I, I, I, I, I, I, I))) * (1./lamb)"
   ]
  },
  {
   "cell_type": "markdown",
   "metadata": {},
   "source": [
    "### Define Hamiltonians"
   ]
  },
  {
   "cell_type": "code",
   "execution_count": 15,
   "metadata": {},
   "outputs": [],
   "source": [
    "U1_RG8 = qdot(prod(I, fSWAP, I, I, I, I, I),\n",
    "              prod(fSWAP, I, I, I, I, I, I),\n",
    "              prod(I, fSWAP, I, I, I, I, I))\n",
    "\n",
    "U2_RG8 = qdot(prod(I, fSWAP, I, I, I, I, I),\n",
    "              prod(I, I, fSWAP, I, I, I, I),\n",
    "              prod(I, fSWAP, I, I, I, I, I))"
   ]
  },
  {
   "cell_type": "code",
   "execution_count": 16,
   "metadata": {},
   "outputs": [],
   "source": [
    "U_FT8_3 = qdot(prod(I, I, I, fSWAP, I, I, I),\n",
    "               prod(I, I, fSWAP, fSWAP, I, I),\n",
    "               prod(I, fSWAP, fSWAP, fSWAP, I),\n",
    "               prod(Fou2(3/8), Fou2(2/8), Fou2(1/8), Fou2(0/8)),\n",
    "               prod(I, fSWAP, fSWAP, fSWAP, I),\n",
    "               prod(I, I, fSWAP, fSWAP, I, I),\n",
    "               prod(I, I, I, fSWAP, I, I, I) )\n",
    "\n",
    "U_FT8_2 = qdot(prod(I, I, I, I, I, fSWAP, I),\n",
    "               prod(I, I, I, I, Fou2(2/8), I, I),\n",
    "               prod(I, I, I, I, I, I, Fou2(0)),\n",
    "               prod(I, I, I, I, I, fSWAP, I),\n",
    "               prod(I, I, I, I, Fou2(0), I, I),\n",
    "               prod(I, I, I, I, I, I, Fou2(0)))\n",
    "\n",
    "U_FT8_1 = qdot(prod(I, fSWAP, I, I, I, I, I),\n",
    "               prod(Fou2(2/8), I, I, I, I, I, I),\n",
    "               prod(I, I, Fou2(0), I, I, I, I),\n",
    "               prod(I, fSWAP, I, I, I, I, I),\n",
    "               prod(Fou2(0), I, I, I, I, I, I),\n",
    "               prod(I, I, Fou2(0), I, I, I, I) )\n",
    "\n",
    "#U_FT8_1.eliminate_zeros()\n",
    "#U_FT8_2.eliminate_zeros()\n",
    "#U_FT8_3.eliminate_zeros()\n",
    "\n",
    "U_FT8 = qdot(U_FT8_3, U_FT8_2, U_FT8_1, U1_RG8)\n",
    "\n",
    "#onequbit_modes(np.around(U_FT8, 3))[:, 0:4]\n",
    "#onequbit_modes(np.around(U_FT8, 3))[:, 4:8]\n",
    "\n",
    "#onequbit_modes(np.around(U_FT8, 3))[0:4, :]\n",
    "#onequbit_modes(np.around(U_FT8, 3))[4:8, :]"
   ]
  },
  {
   "cell_type": "code",
   "execution_count": 17,
   "metadata": {},
   "outputs": [
    {
     "data": {
      "text/plain": [
       "256"
      ]
     },
     "execution_count": 17,
     "metadata": {},
     "output_type": "execute_result"
    },
    {
     "data": {
      "text/plain": [
       "0"
      ]
     },
     "execution_count": 17,
     "metadata": {},
     "output_type": "execute_result"
    }
   ],
   "source": [
    "U_Bog8 = csc_matrix((int(2**N8), int(2**N8) ), dtype=complex)\n",
    "\n",
    "if lamb>1.0:\n",
    "    U_Bog8 = qdot(prod(Bog2(theta(lamb, gamm, 3/8-1/2)),\n",
    "                       Bog2(theta(lamb, gamm, 1/8-1/2)),\n",
    "                       Bog2(theta(lamb, gamm, 2/8-1/2)),\n",
    "                       Bog2(theta(lamb, gamm, 0/8-1/2))),\n",
    "                  prod(fSWAP, fSWAP, fSWAP, fSWAP),\n",
    "                  prod(I, I, I, I, I, I, I, X))\n",
    "    \n",
    "if lamb<=1.0:\n",
    "    U_Bog8 = qdot(prod(Bog2(theta(lamb, gamm, 3/8-1/2)),\n",
    "                       Bog2(theta(lamb, gamm, 1/8-1/2)),\n",
    "                       Bog2(theta(lamb, gamm, 2/8-1/2)),\n",
    "                       Bog2(theta(lamb, gamm, 0/8-1/2))),\n",
    "                  prod(fSWAP, fSWAP, fSWAP, fSWAP))\n",
    "\n",
    "U_Dis8 = qdot(U_FT8, U_Bog8)\n",
    "\n",
    "HD_E8 = HXY_diag(c8, w8) #* (1./lamb)\n",
    "HD_P8 = qdot(U_FT8.getH(), H_X8, U_FT8)\n",
    "HD_X8 = qdot(U_Bog8.getH(), U_FT8.getH(), H_X8, U_FT8, U_Bog8)\n",
    "\n",
    "qf = qctools.CircuitTools(HD_X8)\n",
    "#qf.prettymatrix()\n",
    "qf.check_nnz()\n",
    "np.count_nonzero( np.around(HD_X8.diagonal() - HD_E8.diagonal(), 3) )"
   ]
  },
  {
   "cell_type": "markdown",
   "metadata": {},
   "source": [
    "### Define position/momentum/energy states"
   ]
  },
  {
   "cell_type": "code",
   "execution_count": 18,
   "metadata": {},
   "outputs": [],
   "source": [
    "psi_X8 = spin_states(c8)\n",
    "cc8 = fourier_transform(c8, p8)\n",
    "psi_P8 = np.dot(psi_X8, spin_states(cc8))\n",
    "\n",
    "#onequbit_modes(np.around(psi_P8,3))[:, 0:4]\n",
    "#onequbit_modes(np.around(psi_P8,3))[:, 4:8]"
   ]
  },
  {
   "cell_type": "code",
   "execution_count": 19,
   "metadata": {},
   "outputs": [
    {
     "name": "stderr",
     "output_type": "stream",
     "text": [
      "/home/q1park/anaconda3/lib/python3.6/site-packages/scipy/sparse/compressed.py:746: SparseEfficiencyWarning: Changing the sparsity structure of a csc_matrix is expensive. lil_matrix is more efficient.\n",
      "  SparseEfficiencyWarning)\n"
     ]
    }
   ],
   "source": [
    "val_E8 = HD_E8.diagonal()\n",
    "psi_E8 = np.abs(psi_X8 )\n",
    "ival_E8_ordered = np.argsort(val_E8 )\n",
    "\n",
    "psiX1_E8 = reduce(np.dot, [U_Dis8.getH(), c8[0].getH(), psi_X8[:, 0]] )\n",
    "psiX2_E8 = reduce(np.dot, [U_Dis8.getH(), c8[1].getH(), psi_X8[:, 0]] )\n",
    "psiX3_E8 = reduce(np.dot, [U_Dis8.getH(), c8[2].getH(), psi_X8[:, 0]] )\n",
    "psiX4_E8 = reduce(np.dot, [U_Dis8.getH(), c8[3].getH(), psi_X8[:, 0]] )\n",
    "psiX5_E8 = reduce(np.dot, [U_Dis8.getH(), c8[4].getH(), psi_X8[:, 0]] )\n",
    "psiX6_E8 = reduce(np.dot, [U_Dis8.getH(), c8[5].getH(), psi_X8[:, 0]] )\n",
    "psiX7_E8 = reduce(np.dot, [U_Dis8.getH(), c8[6].getH(), psi_X8[:, 0]] )\n",
    "psiX8_E8 = reduce(np.dot, [U_Dis8.getH(), c8[7].getH(), psi_X8[:, 0]] )\n",
    "\n",
    "psiX_E8 = [psiX1_E8, psiX2_E8, psiX3_E8, psiX4_E8,\n",
    "           psiX5_E8, psiX6_E8, psiX7_E8, psiX8_E8]\n",
    "\n",
    "UD_E8 = [qexp(HD_E8, 0.25*x) for x in range(20)]\n",
    "for x in UD_E8:\n",
    "    x.eliminate_zeros()"
   ]
  },
  {
   "cell_type": "markdown",
   "metadata": {},
   "source": [
    "### Define thermal states"
   ]
  },
  {
   "cell_type": "code",
   "execution_count": 20,
   "metadata": {},
   "outputs": [
    {
     "data": {
      "text/plain": [
       "0"
      ]
     },
     "execution_count": 20,
     "metadata": {},
     "output_type": "execute_result"
    }
   ],
   "source": [
    "psi_LP8 = build_LP(1., rw8)\n",
    "psiC_LP8 = calc_LP(1, val_E8, psi_E8)\n",
    "\n",
    "np.count_nonzero(np.around((psi_LP8[:,0] - psiC_LP8).todense(), 3) )"
   ]
  },
  {
   "cell_type": "code",
   "execution_count": 21,
   "metadata": {},
   "outputs": [
    {
     "data": {
      "text/plain": [
       "0"
      ]
     },
     "execution_count": 21,
     "metadata": {},
     "output_type": "execute_result"
    }
   ],
   "source": [
    "psi_TFD8 = build_TFD(1., rw4)\n",
    "psiC_TFD8 = calc_TFD(1., val_E4, psi_E4)\n",
    "\n",
    "np.count_nonzero(np.around((psi_TFD8[:,0] - psiC_TFD8).todense(), 3) )"
   ]
  },
  {
   "cell_type": "markdown",
   "metadata": {},
   "source": [
    "### Plots I"
   ]
  },
  {
   "cell_type": "code",
   "execution_count": 93,
   "metadata": {},
   "outputs": [],
   "source": [
    "rhoE0_E8_l = np.dot(psi_E8[:, 0],psi_E8[:, 0].getH())\n",
    "rhoTFD_E8_l = np.dot(psi_TFD8[:,0],psi_TFD8[:,0].getH())"
   ]
  },
  {
   "cell_type": "code",
   "execution_count": 1,
   "metadata": {},
   "outputs": [],
   "source": [
    "#S8plot_l001 = scanent_time(UD_E8[:1], rhoE0_E8_l, U_Dis8 )\n",
    "#S8plotTFD_l001a = scanent_temp(betas[4:5], rw4, U_Dis8, 'double' ) \n",
    "#S8plotTFD_l001b = scanent_temp(betas[4:5], rw4, prod(U_Dis4, U_Dis4), 'double' ) "
   ]
  },
  {
   "cell_type": "code",
   "execution_count": 2,
   "metadata": {},
   "outputs": [],
   "source": [
    "#S8plot_l005 = scanent_time(UD_E8[:1], rhoE0_E8_l, U_Dis8 )\n",
    "#S8plotTFD_l005a = scanent_temp(betas[4:5], rw4, U_Dis8, 'double' ) \n",
    "#S8plotTFD_l005b = scanent_temp(betas[4:5], rw4, prod(U_Dis4, U_Dis4), 'double' ) "
   ]
  },
  {
   "cell_type": "code",
   "execution_count": 94,
   "metadata": {},
   "outputs": [
    {
     "name": "stderr",
     "output_type": "stream",
     "text": [
      "/home/q1park/anaconda3/lib/python3.6/site-packages/scipy/linalg/_matfuncs_inv_ssq.py:829: LogmExactlySingularWarning: The logm input matrix is exactly singular.\n",
      "  warnings.warn(exact_singularity_msg, LogmExactlySingularWarning)\n",
      "/home/q1park/qcircuits/functions.py:346: ComplexWarning: Casting complex values to real discards the imaginary part\n",
      "  scanout[itp, ix] = entval.astype(float)\n",
      "/home/q1park/anaconda3/lib/python3.6/site-packages/scipy/linalg/_matfuncs_inv_ssq.py:838: LogmNearlySingularWarning: The logm input matrix may be nearly singular.\n",
      "  warnings.warn(near_singularity_msg, LogmNearlySingularWarning)\n"
     ]
    },
    {
     "name": "stdout",
     "output_type": "stream",
     "text": [
      "logm result may be inaccurate, approximate err = 2.418950804822236e-10\n"
     ]
    },
    {
     "name": "stderr",
     "output_type": "stream",
     "text": [
      "/home/q1park/qcircuits/functions.py:320: ComplexWarning: Casting complex values to real discards the imaginary part\n",
      "  scanout[ib, ix] = entval.astype(float)\n"
     ]
    },
    {
     "name": "stdout",
     "output_type": "stream",
     "text": [
      "logm result may be inaccurate, approximate err = 1.806746124001506e-07\n"
     ]
    }
   ],
   "source": [
    "S8plot_l010 = scanent_time(UD_E8[:1], rhoE0_E8_l, U_Dis8 )\n",
    "S8plotTFD_l010a = scanent_temp(betas[4:5], rw4, U_Dis8, 'double' ) \n",
    "S8plotTFD_l010b = scanent_temp(betas[4:5], rw4, prod(U_Dis4, U_Dis4), 'double' ) "
   ]
  },
  {
   "cell_type": "code",
   "execution_count": 3,
   "metadata": {},
   "outputs": [],
   "source": [
    "#S8plot_l100 = scanent_time(UD_E8[:1], rhoE0_E8_l, U_Dis8 )\n",
    "#S8plotTFD_l100a = scanent_temp(betas[4:5], rw4, U_Dis8, 'double' ) \n",
    "#S8plotTFD_l100b = scanent_temp(betas[4:5], rw4, prod(U_Dis4, U_Dis4), 'double' ) "
   ]
  },
  {
   "cell_type": "code",
   "execution_count": null,
   "metadata": {
    "scrolled": true
   },
   "outputs": [],
   "source": [
    "#rhoE0_E8 = np.dot(psi_E8[:, 0],psi_E8[:, 0].getH())\n",
    "#S8plot = scanent_time(UD_E8[:1], rhoE0_E8, U_Dis8 )\n",
    "\n",
    "#rhoTFD_E8 = np.dot(psi_TFD8[:,0],psi_TFD8[:,0].getH())\n",
    "#S8plotTFD = scanent_temp(betas[4:5], rw4, prod(U_Dis4, U_Dis4), 'double' ) "
   ]
  },
  {
   "cell_type": "code",
   "execution_count": 96,
   "metadata": {},
   "outputs": [
    {
     "data": {
      "text/plain": [
       "Text(0, 5, 'Ground State $| E_0 \\\\rangle$')"
      ]
     },
     "execution_count": 96,
     "metadata": {},
     "output_type": "execute_result"
    },
    {
     "data": {
      "text/plain": [
       "Text(0, 5, 'Thermo-field Double $| TFD \\\\rangle$')"
      ]
     },
     "execution_count": 96,
     "metadata": {},
     "output_type": "execute_result"
    },
    {
     "data": {
      "text/plain": [
       "Text(0, 5, 'subregion $(0, x_i)$')"
      ]
     },
     "execution_count": 96,
     "metadata": {},
     "output_type": "execute_result"
    },
    {
     "data": {
      "text/plain": [
       "Text(0, 5, 'subregion $(0, x_i)$')"
      ]
     },
     "execution_count": 96,
     "metadata": {},
     "output_type": "execute_result"
    },
    {
     "data": {
      "text/plain": [
       "Text(-9.0, 0, 'Entanglement Entropy   $S(0, x_i)$')"
      ]
     },
     "execution_count": 96,
     "metadata": {},
     "output_type": "execute_result"
    },
    {
     "data": {
      "text/plain": [
       "[<matplotlib.lines.Line2D at 0x7f5fb4fd9ac8>]"
      ]
     },
     "execution_count": 96,
     "metadata": {},
     "output_type": "execute_result"
    },
    {
     "data": {
      "text/plain": [
       "[<matplotlib.lines.Line2D at 0x7f5fb4fdc668>]"
      ]
     },
     "execution_count": 96,
     "metadata": {},
     "output_type": "execute_result"
    },
    {
     "data": {
      "text/plain": [
       "[<matplotlib.lines.Line2D at 0x7f5fb4fdc358>]"
      ]
     },
     "execution_count": 96,
     "metadata": {},
     "output_type": "execute_result"
    },
    {
     "data": {
      "text/plain": [
       "[<matplotlib.lines.Line2D at 0x7f5fb4fdcf28>]"
      ]
     },
     "execution_count": 96,
     "metadata": {},
     "output_type": "execute_result"
    },
    {
     "data": {
      "text/plain": [
       "[<matplotlib.lines.Line2D at 0x7f5fb4fdccf8>]"
      ]
     },
     "execution_count": 96,
     "metadata": {},
     "output_type": "execute_result"
    },
    {
     "name": "stderr",
     "output_type": "stream",
     "text": [
      "/home/q1park/anaconda3/lib/python3.6/site-packages/matplotlib/legend.py:1270: UserWarning: You have mixed positional and keyword arguments, some input may be discarded.\n",
      "  warnings.warn(\"You have mixed positional and keyword arguments, some \"\n"
     ]
    },
    {
     "data": {
      "text/plain": [
       "<matplotlib.legend.Legend at 0x7f5fb512c390>"
      ]
     },
     "execution_count": 96,
     "metadata": {},
     "output_type": "execute_result"
    },
    {
     "data": {
      "text/plain": [
       "Text(0.5, 1.005, '$\\\\beta = 1/T = 1$')"
      ]
     },
     "execution_count": 96,
     "metadata": {},
     "output_type": "execute_result"
    },
    {
     "data": {
      "image/png": "[encoded data removed]",
      "text/plain": [
       "<Figure size 900x360 with 2 Axes>"
      ]
     },
     "metadata": {},
     "output_type": "display_data"
    }
   ],
   "source": [
    "cols = [r'Ground State $| E_0 \\rangle$', \n",
    "        r'Thermo-field Double $| TFD \\rangle$']\n",
    "rows = ['Exact']\n",
    "\n",
    "clabels = [r'subregion $(0, x_i)$']*len(cols)\n",
    "rlabels = [r'Entanglement Entropy   $S(0, x_i)$']*len(rows)\n",
    "\n",
    "fig, axes = plt.subplots(nrows=1, ncols=2, sharex=True, sharey=False, figsize=(12.5, 5))\n",
    "\n",
    "#plt.setp(axes.flat, xlabel=r'$\\langle Z \\rangle$', ylabel='t')\n",
    "\n",
    "pad = 5 # in points\n",
    "\n",
    "l8 = np.linspace(1,7, 7)\n",
    "Struth = np.array([S_crit(0.5, 8, x, 0.5447) for x in l8])\n",
    "\n",
    "for ax, col in zip(axes, cols):\n",
    "    ax.annotate(col, xy=(0.5, 1.025), xytext=(0, pad),\n",
    "                xycoords='axes fraction', textcoords='offset points',\n",
    "                size='x-large', ha='center', va='baseline');\n",
    "    \n",
    "for ax, clabel in zip(axes, clabels):\n",
    "    ax.annotate(clabel, xy=(0.5, -0.15), xytext=(0, pad),\n",
    "                xycoords='axes fraction', textcoords='offset points',\n",
    "                size='large', ha='center', va='baseline');\n",
    "\n",
    "axes[0].annotate(rlabels[0], xy=(0., 0.5), xytext=(-ax.yaxis.labelpad - pad, 0),\n",
    "                xycoords=axes[0].yaxis.label, textcoords='offset points',\n",
    "                size='large', ha='center', va='center', rotation=90);\n",
    "\n",
    "for j, cell in enumerate(axes):\n",
    "    if j==0:\n",
    "        leg1 = cell.plot(l8, S8plot_l010.reshape(8,)[1:], \"o\")\n",
    "        l_smooth = np.linspace(l8.min(),l8.max(),300) #300 represents number of points to make between T.min and T.max\n",
    "        spl = make_interp_spline(l8, Struth, k=3) #BSpline object\n",
    "        S_smooth = spl(l_smooth)\n",
    "        leg2 = cell.plot(l_smooth,S_smooth)\n",
    "        \n",
    "        leg3 = cell.plot(l8, S8plot_l001.reshape(8,)[1:], \"x\")\n",
    "        leg4 = cell.plot(l8, S8plot_l005.reshape(8,)[1:], \"x\")\n",
    "        leg5 = cell.plot(l8, S8plot_l100.reshape(8,)[1:], \"x\")\n",
    "        \n",
    "        \n",
    "    if j==1:\n",
    "        cell.plot(l8, S8plotTFD_l010a.reshape(8,)[1:], \"o\")\n",
    "        cell.plot(l8, S8plotTFD_l001a.reshape(8,)[1:], \"x\")\n",
    "        cell.plot(l8, S8plotTFD_l001a.reshape(8,)[1:], \"x\")\n",
    "        cell.plot(l8, S8plotTFD_l005a.reshape(8,)[1:], \"x\")\n",
    "        cell.plot(l8, S8plotTFD_l100a.reshape(8,)[1:], \"x\")\n",
    "\n",
    "line_labels = [r\"$\\lambda = 1.0$\", r\"$\\lambda = 1.0$ (exact)\", \n",
    "               r\"$\\lambda = 0.1$\", r\"$\\lambda = 0.5$\", \n",
    "               r\"$\\lambda = 10.0$\"]\n",
    "        \n",
    "fig.legend([leg1, leg2, leg3, leg4, leg5],     # The line objects\n",
    "           labels=line_labels,   # The labels for each line\n",
    "           loc=\"center right\",   # Position of legend\n",
    "           borderaxespad=0.1,    # Small spacing around legend box\n",
    "           title=\"Transverse Coupling\"  # Title for the legend\n",
    "           )\n",
    "fig.text(0.5, 1.005, r'$\\beta = 1/T = 1$', ha='center', size='xx-large')\n",
    "plt.subplots_adjust(right=0.875)"
   ]
  },
  {
   "cell_type": "code",
   "execution_count": 97,
   "metadata": {},
   "outputs": [
    {
     "data": {
      "text/plain": [
       "Text(0, 5, 'Ground State $| E_0 \\\\rangle$')"
      ]
     },
     "execution_count": 97,
     "metadata": {},
     "output_type": "execute_result"
    },
    {
     "data": {
      "text/plain": [
       "Text(0, 5, 'Thermo-field Double $| TFD \\\\rangle$')"
      ]
     },
     "execution_count": 97,
     "metadata": {},
     "output_type": "execute_result"
    },
    {
     "data": {
      "text/plain": [
       "Text(0, 5, 'subregion $(0, x_i)$')"
      ]
     },
     "execution_count": 97,
     "metadata": {},
     "output_type": "execute_result"
    },
    {
     "data": {
      "text/plain": [
       "Text(0, 5, 'subregion $(0, x_i)$')"
      ]
     },
     "execution_count": 97,
     "metadata": {},
     "output_type": "execute_result"
    },
    {
     "data": {
      "text/plain": [
       "Text(-9.0, 0, 'Entanglement Entropy   $S(0, x_i)$')"
      ]
     },
     "execution_count": 97,
     "metadata": {},
     "output_type": "execute_result"
    },
    {
     "data": {
      "text/plain": [
       "[<matplotlib.lines.Line2D at 0x7f5fb425a668>]"
      ]
     },
     "execution_count": 97,
     "metadata": {},
     "output_type": "execute_result"
    },
    {
     "data": {
      "text/plain": [
       "[<matplotlib.lines.Line2D at 0x7f5fb425acc0>]"
      ]
     },
     "execution_count": 97,
     "metadata": {},
     "output_type": "execute_result"
    },
    {
     "data": {
      "text/plain": [
       "[<matplotlib.lines.Line2D at 0x7f5fb425a978>]"
      ]
     },
     "execution_count": 97,
     "metadata": {},
     "output_type": "execute_result"
    },
    {
     "data": {
      "text/plain": [
       "[<matplotlib.lines.Line2D at 0x7f5fb424d048>]"
      ]
     },
     "execution_count": 97,
     "metadata": {},
     "output_type": "execute_result"
    },
    {
     "data": {
      "text/plain": [
       "[<matplotlib.lines.Line2D at 0x7f5fb424d978>]"
      ]
     },
     "execution_count": 97,
     "metadata": {},
     "output_type": "execute_result"
    },
    {
     "name": "stderr",
     "output_type": "stream",
     "text": [
      "/home/q1park/anaconda3/lib/python3.6/site-packages/matplotlib/legend.py:1270: UserWarning: You have mixed positional and keyword arguments, some input may be discarded.\n",
      "  warnings.warn(\"You have mixed positional and keyword arguments, some \"\n"
     ]
    },
    {
     "data": {
      "text/plain": [
       "<matplotlib.legend.Legend at 0x7f5fb4293438>"
      ]
     },
     "execution_count": 97,
     "metadata": {},
     "output_type": "execute_result"
    },
    {
     "data": {
      "text/plain": [
       "Text(0.5, 1.005, '$\\\\beta = 1/T = 1$')"
      ]
     },
     "execution_count": 97,
     "metadata": {},
     "output_type": "execute_result"
    },
    {
     "data": {
      "image/png": "[encoded data removed]",
      "text/plain": [
       "<Figure size 900x360 with 2 Axes>"
      ]
     },
     "metadata": {},
     "output_type": "display_data"
    }
   ],
   "source": [
    "cols = [r'Ground State $| E_0 \\rangle$', \n",
    "        r'Thermo-field Double $| TFD \\rangle$']\n",
    "rows = ['Exact']\n",
    "\n",
    "clabels = [r'subregion $(0, x_i)$']*len(cols)\n",
    "rlabels = [r'Entanglement Entropy   $S(0, x_i)$']*len(rows)\n",
    "\n",
    "fig, axes = plt.subplots(nrows=1, ncols=2, sharex=True, sharey=False, figsize=(12.5, 5))\n",
    "\n",
    "#plt.setp(axes.flat, xlabel=r'$\\langle Z \\rangle$', ylabel='t')\n",
    "\n",
    "pad = 5 # in points\n",
    "\n",
    "l8 = np.linspace(1,7, 7)\n",
    "Struth = np.array([S_crit(0.5, 8, x, 0.5447) for x in l8])\n",
    "\n",
    "for ax, col in zip(axes, cols):\n",
    "    ax.annotate(col, xy=(0.5, 1.025), xytext=(0, pad),\n",
    "                xycoords='axes fraction', textcoords='offset points',\n",
    "                size='x-large', ha='center', va='baseline');\n",
    "    \n",
    "for ax, clabel in zip(axes, clabels):\n",
    "    ax.annotate(clabel, xy=(0.5, -0.15), xytext=(0, pad),\n",
    "                xycoords='axes fraction', textcoords='offset points',\n",
    "                size='large', ha='center', va='baseline');\n",
    "\n",
    "axes[0].annotate(rlabels[0], xy=(0., 0.5), xytext=(-ax.yaxis.labelpad - pad, 0),\n",
    "                xycoords=axes[0].yaxis.label, textcoords='offset points',\n",
    "                size='large', ha='center', va='center', rotation=90);\n",
    "\n",
    "for j, cell in enumerate(axes):\n",
    "    if j==0:\n",
    "        leg1 = cell.plot(l8, S8plot_l010.reshape(8,)[1:], \"o\")\n",
    "        l_smooth = np.linspace(l8.min(),l8.max(),300) #300 represents number of points to make between T.min and T.max\n",
    "        spl = make_interp_spline(l8, Struth, k=3) #BSpline object\n",
    "        S_smooth = spl(l_smooth)\n",
    "        leg2 = cell.plot(l_smooth,S_smooth)\n",
    "        \n",
    "        leg3 = cell.plot(l8, S8plot_l001.reshape(8,)[1:], \"x\")\n",
    "        leg4 = cell.plot(l8, S8plot_l005.reshape(8,)[1:], \"x\")\n",
    "        leg5 = cell.plot(l8, S8plot_l100.reshape(8,)[1:], \"x\")\n",
    "        \n",
    "        \n",
    "    if j==1:\n",
    "        cell.plot(l8, S8plotTFD_l010b.reshape(8,)[1:], \"o\")\n",
    "        cell.plot(l8, S8plotTFD_l001b.reshape(8,)[1:], \"x\")\n",
    "        cell.plot(l8, S8plotTFD_l001b.reshape(8,)[1:], \"x\")\n",
    "        cell.plot(l8, S8plotTFD_l005b.reshape(8,)[1:], \"x\")\n",
    "        cell.plot(l8, S8plotTFD_l100b.reshape(8,)[1:], \"x\")\n",
    "\n",
    "line_labels = [r\"$\\lambda = 1.0$\", r\"$\\lambda = 1.0$ (exact)\", \n",
    "               r\"$\\lambda = 0.1$\", r\"$\\lambda = 0.5$\", \n",
    "               r\"$\\lambda = 10.0$\"]\n",
    "        \n",
    "fig.legend([leg1, leg2, leg3, leg4, leg5],     # The line objects\n",
    "           labels=line_labels,   # The labels for each line\n",
    "           loc=\"center right\",   # Position of legend\n",
    "           borderaxespad=0.1,    # Small spacing around legend box\n",
    "           title=\"Transverse Coupling\"  # Title for the legend\n",
    "           )\n",
    "fig.text(0.5, 1.005, r'$\\beta = 1/T = 1$', ha='center', size='xx-large')\n",
    "plt.subplots_adjust(right=0.875)"
   ]
  },
  {
   "cell_type": "markdown",
   "metadata": {},
   "source": [
    "### Plots II"
   ]
  },
  {
   "cell_type": "code",
   "execution_count": 22,
   "metadata": {},
   "outputs": [],
   "source": [
    "rhoX1_E4_RG = reduce(np.dot, [U_Bog4.getH(),\n",
    "                               pTraceM(reduce(np.dot, \n",
    "                                              [U_Bog8, \n",
    "                                               np.dot(psiX1_E8, psiX1_E8.getH()),\n",
    "                                               U_Bog8.getH()]\n",
    "                                             ), [1,2,6,7] ),\n",
    "                               U_Bog4] )\n",
    "\n",
    "rhoX2_E4_RG = reduce(np.dot, [U_Bog4.getH(),\n",
    "                               pTraceM(reduce(np.dot, \n",
    "                                              [U_Bog8, \n",
    "                                               np.dot(psiX2_E8, psiX2_E8.getH()),\n",
    "                                               U_Bog8.getH()]\n",
    "                                             ), [1,2,6,7] ),\n",
    "                               U_Bog4] )\n",
    "\n",
    "rhoX3_E4_RG = reduce(np.dot, [U_Bog4.getH(),\n",
    "                               pTraceM(reduce(np.dot, \n",
    "                                              [U_Bog8, \n",
    "                                               np.dot(psiX3_E8, psiX3_E8.getH()),\n",
    "                                               U_Bog8.getH()]\n",
    "                                             ), [1,2,6,7] ),\n",
    "                               U_Bog4] )\n",
    "\n",
    "rhoX4_E4_RG = reduce(np.dot, [U_Bog4.getH(),\n",
    "                               pTraceM(reduce(np.dot, \n",
    "                                              [U_Bog8, \n",
    "                                               np.dot(psiX4_E8, psiX4_E8.getH()),\n",
    "                                               U_Bog8.getH()]\n",
    "                                             ), [1,2,6,7] ),\n",
    "                               U_Bog4] )\n",
    "\n",
    "rhoX5_E4_RG = reduce(np.dot, [U_Bog4.getH(),\n",
    "                               pTraceM(reduce(np.dot, \n",
    "                                              [U_Bog8, \n",
    "                                               np.dot(psiX5_E8, psiX5_E8.getH()),\n",
    "                                               U_Bog8.getH()]\n",
    "                                             ), [1,2,6,7] ),\n",
    "                               U_Bog4] )\n",
    "\n",
    "rhoX6_E4_RG = reduce(np.dot, [U_Bog4.getH(),\n",
    "                               pTraceM(reduce(np.dot, \n",
    "                                              [U_Bog8, \n",
    "                                               np.dot(psiX6_E8, psiX6_E8.getH()),\n",
    "                                               U_Bog8.getH()]\n",
    "                                             ), [1,2,6,7] ),\n",
    "                               U_Bog4] )\n",
    "\n",
    "rhoX7_E4_RG = reduce(np.dot, [U_Bog4.getH(),\n",
    "                               pTraceM(reduce(np.dot, \n",
    "                                              [U_Bog8, \n",
    "                                               np.dot(psiX7_E8, psiX7_E8.getH()),\n",
    "                                               U_Bog8.getH()]\n",
    "                                             ), [1,2,6,7] ),\n",
    "                               U_Bog4] )\n",
    "\n",
    "rhoX8_E4_RG = reduce(np.dot, [U_Bog4.getH(),\n",
    "                               pTraceM(reduce(np.dot, \n",
    "                                              [U_Bog8, \n",
    "                                               np.dot(psiX8_E8, psiX8_E8.getH()),\n",
    "                                               U_Bog8.getH()]\n",
    "                                             ), [1,2,6,7] ),\n",
    "                               U_Bog4] )\n",
    "\n",
    "rhoX_E4_RG = [rhoX1_E4_RG, rhoX2_E4_RG, rhoX3_E4_RG, rhoX4_E4_RG,\n",
    "              rhoX5_E4_RG, rhoX6_E4_RG, rhoX7_E4_RG, rhoX8_E4_RG]"
   ]
  },
  {
   "cell_type": "code",
   "execution_count": 25,
   "metadata": {},
   "outputs": [
    {
     "name": "stderr",
     "output_type": "stream",
     "text": [
      "/home/q1park/qcircuits/functions.py:227: ComplexWarning: Casting complex values to real discards the imaginary part\n",
      "  scanout[itp, ix] = expval.astype(float)\n"
     ]
    },
    {
     "data": {
      "image/png": "[encoded data removed]",
      "text/plain": [
       "<Figure size 1080x648 with 17 Axes>"
      ]
     },
     "metadata": {},
     "output_type": "display_data"
    }
   ],
   "source": [
    "#cols = [r'$\\langle Z \\rangle = $ {}'.format(col) for col in range(8)]\n",
    "#rows = ['n = {}'.format(row) for row in ['8  ', '4  ']]\n",
    "cols = [r'$|\\psi (0) \\rangle = c_1^\\dagger |0 \\rangle$', r'$|\\psi (0) \\rangle = c_2^\\dagger |0 \\rangle$', \n",
    "        r'$|\\psi (0) \\rangle = c_3^\\dagger |0 \\rangle$', r'$|\\psi (0) \\rangle = c_4^\\dagger |0 \\rangle$',\n",
    "        r'$|\\psi (0) \\rangle = c_5^\\dagger |0 \\rangle$', r'$|\\psi (0) \\rangle = c_6^\\dagger |0 \\rangle$',\n",
    "        r'$|\\psi (0) \\rangle = c_7^\\dagger |0 \\rangle$', r'$|\\psi (0) \\rangle = c_8^\\dagger |0 \\rangle$']\n",
    "rows = ['Exact', 'Effective']\n",
    "\n",
    "clabels = ['position (x)']*len(cols)\n",
    "rlabels = ['scaled time (wt)']*len(rows)\n",
    "\n",
    "fig, axes = plt.subplots(nrows=2, ncols=8, sharex=True, sharey=True, figsize=(15, 9))\n",
    "\n",
    "#plt.setp(axes.flat, xlabel=r'$\\langle Z \\rangle$', ylabel='t')\n",
    "\n",
    "pad = 5 # in points\n",
    "\n",
    "for ax, col in zip(axes[0], cols):\n",
    "    ax.annotate(col, xy=(0.5, 1.025), xytext=(0, pad),\n",
    "                xycoords='axes fraction', textcoords='offset points',\n",
    "                size='x-large', fontweight = 'bold', ha='center', va='baseline');\n",
    "\n",
    "for ax, row in zip(axes[:,0], rows):\n",
    "    ax.annotate(row, xy=(-0.5, 1.), xytext=(0, pad),\n",
    "                xycoords='axes fraction', textcoords='offset points',\n",
    "                size='xx-large', ha='center', va='top', rotation=90);\n",
    "\n",
    "\n",
    "for ax, rlabel in zip(axes[:,0], rlabels):\n",
    "    ax.annotate(rlabel, xy=(0., 0.5), xytext=(-ax.yaxis.labelpad - pad, 0),\n",
    "                xycoords=ax.yaxis.label, textcoords='offset points',\n",
    "                size='x-large', ha='center', va='center', rotation=90);\n",
    "\n",
    "for i, row in enumerate(axes):\n",
    "    for j, cell in enumerate(row):\n",
    "        if i==0:\n",
    "            cell.imshow(scansig_time(UD_E8, psiX_E8[j], U_Dis8, [Z] ), \n",
    "                        cmap='hot', interpolation='nearest', vmin = -1.25, vmax = 1.25)\n",
    "        if i==1:\n",
    "            cell.imshow(-1+2*scansig_time(UD_E4, rhoX_E4_RG[j], U_Dis4, [Z], wider=True ), \n",
    "                        cmap='hot', interpolation='nearest', vmin = -1.25, vmax = 1.25)\n",
    "            legender = cell.imshow(-1+2*scansig_time(UD_E4, rhoX_E4_RG[j], U_Dis4, [Z], wider=True ), \n",
    "                        cmap='hot', interpolation='nearest', vmin = -1.25, vmax = 1.25 )\n",
    "\n",
    "plt.gca().invert_yaxis()\n",
    "\n",
    "fig.tight_layout();\n",
    "fig.subplots_adjust(wspace=0.04, hspace=0.1, top=0.95, left=0.1);\n",
    "#fig.subplots_adjust(left=0.15, top=0.95);\n",
    "#fig.colorbar(legender, ax=axes.ravel().tolist())\n",
    "fig.text(0.5, -0.02, r'position $(x_i)$', ha='center', size='x-large')\n",
    "cbar_ax = fig.add_axes([1.01, 0.1, 0.025, 0.75])\n",
    "cbar = fig.colorbar(legender, cax=cbar_ax)\n",
    "cbar.set_label(r'$\\langle Z_i \\rangle$', rotation=0, size=24, labelpad=-45, y=1.08)\n",
    "\n",
    "labels=axes[0,0].get_yticks().tolist()\n",
    "labels[1]='0'\n",
    "labels[2]='0.75'\n",
    "labels[3]='1.5'\n",
    "labels[4]='2.25'\n",
    "labels[5]='3'\n",
    "labels[6]='3.75'\n",
    "labels[7]='4.5'\n",
    "labels[8]='5.25'\n",
    "axes[0,0].set_yticklabels(labels)\n",
    "\n",
    "plt.show();"
   ]
  },
  {
   "cell_type": "markdown",
   "metadata": {},
   "source": [
    "### Plots 3"
   ]
  },
  {
   "cell_type": "code",
   "execution_count": 22,
   "metadata": {},
   "outputs": [
    {
     "name": "stderr",
     "output_type": "stream",
     "text": [
      "/home/q1park/anaconda3/lib/python3.6/site-packages/scipy/linalg/_matfuncs_inv_ssq.py:829: LogmExactlySingularWarning: The logm input matrix is exactly singular.\n",
      "  warnings.warn(exact_singularity_msg, LogmExactlySingularWarning)\n",
      "/home/q1park/qcircuits/functions.py:320: ComplexWarning: Casting complex values to real discards the imaginary part\n",
      "  scanout[ib, ix] = entval.astype(float)\n",
      "/home/q1park/anaconda3/lib/python3.6/site-packages/scipy/linalg/_matfuncs_inv_ssq.py:838: LogmNearlySingularWarning: The logm input matrix may be nearly singular.\n",
      "  warnings.warn(near_singularity_msg, LogmNearlySingularWarning)\n"
     ]
    }
   ],
   "source": [
    "xplot = scanent_temp(betas, rw4, U_Dis8, 'double' ) "
   ]
  },
  {
   "cell_type": "code",
   "execution_count": 23,
   "metadata": {},
   "outputs": [],
   "source": [
    "xplot = np.flip(xplot, 0)"
   ]
  },
  {
   "cell_type": "code",
   "execution_count": 25,
   "metadata": {},
   "outputs": [
    {
     "data": {
      "image/png": "[encoded data removed]",
      "text/plain": [
       "<Figure size 648x360 with 4 Axes>"
      ]
     },
     "metadata": {},
     "output_type": "display_data"
    }
   ],
   "source": [
    "cols = [r'$\\lambda = 1/10$', r'$\\lambda = 1$', r'$\\lambda = 10$']\n",
    "rows = ['Exact']\n",
    "\n",
    "clabels = ['position (x)']*len(cols)\n",
    "rlabels = [r'$\\beta$  $(1/T)$']*len(rows)\n",
    "\n",
    "fig, axes = plt.subplots(nrows=1, ncols=3, sharex=True, sharey=True, figsize=(9, 5))\n",
    "\n",
    "pad = 5 # in points\n",
    "\n",
    "\n",
    "for ax, col in zip(axes, cols):\n",
    "    ax.annotate(col, xy=(0.5, 1.025), xytext=(0, pad),\n",
    "                xycoords='axes fraction', textcoords='offset points',\n",
    "                size='x-large', ha='center', va='baseline');\n",
    "\n",
    "axes[0].annotate(rlabels[0], xy=(0., 0.5), xytext=(-ax.yaxis.labelpad - pad, 0),\n",
    "                xycoords=axes[0].yaxis.label, textcoords='offset points',\n",
    "                size='x-large', ha='center', va='center', rotation=90);\n",
    "    \n",
    "for j, cell in enumerate(axes):\n",
    "    cell.imshow(xplot, \n",
    "                cmap='hot', interpolation='nearest', vmin = -0.5, vmax = 4.)\n",
    "    legender = cell.imshow(xplot[:,1:], \n",
    "                           cmap='hot', interpolation='nearest', vmin = -0.5, vmax = 4.)\n",
    "\n",
    "\n",
    "plt.gca().invert_yaxis()\n",
    "\n",
    "fig.tight_layout();\n",
    "fig.subplots_adjust(wspace=0.2, hspace=0.1, top=0.95, left=0.1);\n",
    "\n",
    "fig.text(0.55, 0.055, r'subregion $(0, x_i)$', ha='center', size='large')\n",
    "cbar_ax = fig.add_axes([1.02, 0.16, 0.035, 0.66])\n",
    "cbar = fig.colorbar(legender, cax=cbar_ax)\n",
    "\n",
    "cbar.set_label(r'$S(0,x_i)$', rotation=0, size='xx-large', labelpad=-35, y=1.11)\n",
    "\n",
    "labels=axes[0].get_yticks().tolist()\n",
    "labels[1]='0'\n",
    "labels[2]='1/4'\n",
    "labels[3]='1'\n",
    "labels[4]='4'\n",
    "labels[5]='16'\n",
    "axes[0].set_yticklabels(labels)\n",
    "\n",
    "plt.show();"
   ]
  },
  {
   "cell_type": "code",
   "execution_count": null,
   "metadata": {},
   "outputs": [],
   "source": [
    "xplot = scanent_temp(betas, rw8, U_Dis8, 'single' ) \n",
    "plt.imshow(xplot.astype(float), cmap='hot', interpolation='nearest', vmin = -0.1, vmax = 1.,\n",
    "           aspect = 0.3*4)\n",
    "plt.show();\n",
    "\n",
    "np.around(xplot, 3)\n",
    "\n",
    "xplot = scanent_temp(betas, rw8, U_Dis8, 'mixed' ) \n",
    "plt.imshow(xplot.astype(float), cmap='hot', interpolation='nearest', vmin = -50, vmax = 50,\n",
    "           aspect = 0.3*4)\n",
    "plt.show();\n",
    "\n",
    "np.around(xplot, 3)"
   ]
  },
  {
   "cell_type": "markdown",
   "metadata": {},
   "source": [
    "### n=16 Circuit"
   ]
  },
  {
   "cell_type": "code",
   "execution_count": null,
   "metadata": {},
   "outputs": [],
   "source": [
    "[0,8,-6,6,-4,4,-2,2,-7,7,-5,5,-3,3,-1,1]"
   ]
  }
 ],
 "metadata": {
  "kernelspec": {
   "display_name": "Python 3",
   "language": "python",
   "name": "python3"
  },
  "language_info": {
   "codemirror_mode": {
    "name": "ipython",
    "version": 3
   },
   "file_extension": ".py",
   "mimetype": "text/x-python",
   "name": "python",
   "nbconvert_exporter": "python",
   "pygments_lexer": "ipython3",
   "version": "3.6.7"
  }
 },
 "nbformat": 4,
 "nbformat_minor": 2
}
